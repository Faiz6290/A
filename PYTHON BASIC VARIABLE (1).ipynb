{
 "cells": [
  {
   "cell_type": "code",
   "execution_count": 2,
   "id": "f1398e4a-7f95-45bd-95f1-424049410ffe",
   "metadata": {},
   "outputs": [
    {
     "data": {
      "text/plain": [
       "3798"
      ]
     },
     "execution_count": 2,
     "metadata": {},
     "output_type": "execute_result"
    }
   ],
   "source": [
    "3453+345"
   ]
  },
  {
   "cell_type": "code",
   "execution_count": 3,
   "id": "9fd0be55-93c7-4c9c-9fec-a09583c1b1a1",
   "metadata": {},
   "outputs": [],
   "source": [
    "a=10"
   ]
  },
  {
   "cell_type": "code",
   "execution_count": 4,
   "id": "11882671-ca93-4527-94dd-cf32cae21f1d",
   "metadata": {},
   "outputs": [
    {
     "data": {
      "text/plain": [
       "10"
      ]
     },
     "execution_count": 4,
     "metadata": {},
     "output_type": "execute_result"
    }
   ],
   "source": [
    "a"
   ]
  },
  {
   "cell_type": "code",
   "execution_count": 5,
   "id": "3fec9868-cba5-40a5-b71f-e2d3153c7415",
   "metadata": {},
   "outputs": [],
   "source": [
    "faiz=326458255"
   ]
  },
  {
   "cell_type": "code",
   "execution_count": 6,
   "id": "c047a438-56a5-4a9f-ab91-8ecf40e0ae40",
   "metadata": {},
   "outputs": [
    {
     "data": {
      "text/plain": [
       "326458255"
      ]
     },
     "execution_count": 6,
     "metadata": {},
     "output_type": "execute_result"
    }
   ],
   "source": [
    "faiz"
   ]
  },
  {
   "cell_type": "code",
   "execution_count": 7,
   "id": "f53eea45-48e0-4600-a38e-bcdf4175b96a",
   "metadata": {},
   "outputs": [
    {
     "data": {
      "text/plain": [
       "int"
      ]
     },
     "execution_count": 7,
     "metadata": {},
     "output_type": "execute_result"
    }
   ],
   "source": [
    "type(faiz)"
   ]
  },
  {
   "cell_type": "code",
   "execution_count": 8,
   "id": "c05f580a-b244-4dec-9042-d59a2664b4ac",
   "metadata": {},
   "outputs": [
    {
     "data": {
      "text/plain": [
       "str"
      ]
     },
     "execution_count": 8,
     "metadata": {},
     "output_type": "execute_result"
    }
   ],
   "source": [
    "type(\"a\")"
   ]
  },
  {
   "cell_type": "code",
   "execution_count": 1,
   "id": "dd484264-91ae-4461-829b-4aa70766cd38",
   "metadata": {},
   "outputs": [
    {
     "data": {
      "text/plain": [
       "3"
      ]
     },
     "execution_count": 1,
     "metadata": {},
     "output_type": "execute_result"
    }
   ],
   "source": [
    "1+2"
   ]
  },
  {
   "cell_type": "code",
   "execution_count": 9,
   "id": "554ecd23-2459-4fe0-8f73-5584dd928ea8",
   "metadata": {},
   "outputs": [],
   "source": [
    "a=1000"
   ]
  },
  {
   "cell_type": "code",
   "execution_count": 10,
   "id": "0cf45b2c-6e5f-480d-80e9-42a8b1d0ead6",
   "metadata": {},
   "outputs": [
    {
     "data": {
      "text/plain": [
       "int"
      ]
     },
     "execution_count": 10,
     "metadata": {},
     "output_type": "execute_result"
    }
   ],
   "source": [
    "type(a)"
   ]
  },
  {
   "cell_type": "code",
   "execution_count": 11,
   "id": "0b34c013-f88c-41c7-9181-d806863ec7c0",
   "metadata": {},
   "outputs": [],
   "source": [
    "s = \"pwskills\""
   ]
  },
  {
   "cell_type": "code",
   "execution_count": 12,
   "id": "fa48f836-bcdd-42ea-b4df-50d559249862",
   "metadata": {},
   "outputs": [
    {
     "data": {
      "text/plain": [
       "str"
      ]
     },
     "execution_count": 12,
     "metadata": {},
     "output_type": "execute_result"
    }
   ],
   "source": [
    "type(s)"
   ]
  },
  {
   "cell_type": "code",
   "execution_count": 13,
   "id": "f572c54e-3ae8-4710-b6dd-ecc1dfe5fa5e",
   "metadata": {},
   "outputs": [
    {
     "data": {
      "text/plain": [
       "'pwskills'"
      ]
     },
     "execution_count": 13,
     "metadata": {},
     "output_type": "execute_result"
    }
   ],
   "source": [
    "s"
   ]
  },
  {
   "cell_type": "code",
   "execution_count": 14,
   "id": "14ec936a-7ce3-43ca-be71-56976f38a7fc",
   "metadata": {},
   "outputs": [],
   "source": [
    "b = \"fuck you\""
   ]
  },
  {
   "cell_type": "code",
   "execution_count": 15,
   "id": "70106df4-a39f-4578-a2f9-1a607b8c4426",
   "metadata": {},
   "outputs": [
    {
     "data": {
      "text/plain": [
       "str"
      ]
     },
     "execution_count": 15,
     "metadata": {},
     "output_type": "execute_result"
    }
   ],
   "source": [
    "type(b)"
   ]
  },
  {
   "cell_type": "code",
   "execution_count": 16,
   "id": "772eea6d-6318-4b86-a6a7-fb21c985cd2a",
   "metadata": {},
   "outputs": [
    {
     "data": {
      "text/plain": [
       "'fuck you'"
      ]
     },
     "execution_count": 16,
     "metadata": {},
     "output_type": "execute_result"
    }
   ],
   "source": [
    "b"
   ]
  },
  {
   "cell_type": "code",
   "execution_count": 17,
   "id": "89a4829d-1744-4bb4-bc22-bf424ed793c7",
   "metadata": {},
   "outputs": [
    {
     "ename": "SyntaxError",
     "evalue": "unterminated string literal (detected at line 1) (2485536380.py, line 1)",
     "output_type": "error",
     "traceback": [
      "\u001b[0;36m  Cell \u001b[0;32mIn[17], line 1\u001b[0;36m\u001b[0m\n\u001b[0;31m    s1 = 'this is my first python lecture\"\u001b[0m\n\u001b[0m         ^\u001b[0m\n\u001b[0;31mSyntaxError\u001b[0m\u001b[0;31m:\u001b[0m unterminated string literal (detected at line 1)\n"
     ]
    }
   ],
   "source": [
    "s1 = 'this is my first python lecture\""
   ]
  },
  {
   "cell_type": "code",
   "execution_count": null,
   "id": "eddb5de4-0463-44a4-a712-0ac793425fba",
   "metadata": {},
   "outputs": [],
   "source": [
    "type(s1)"
   ]
  },
  {
   "cell_type": "code",
   "execution_count": null,
   "id": "b95aa095-2041-4d38-b209-781bac5e4a25",
   "metadata": {},
   "outputs": [],
   "source": [
    "s1"
   ]
  },
  {
   "cell_type": "code",
   "execution_count": null,
   "id": "30cfd48b-40ff-41ba-9690-b5307d0f5ee8",
   "metadata": {},
   "outputs": [],
   "source": [
    "f = 452425.2356"
   ]
  },
  {
   "cell_type": "code",
   "execution_count": null,
   "id": "0820ea88-bf91-4941-a8b1-6b6a03ec2218",
   "metadata": {},
   "outputs": [],
   "source": [
    "type ( f )"
   ]
  },
  {
   "cell_type": "code",
   "execution_count": null,
   "id": "ea4f9927-e311-4b8c-8c07-73285b8c2bc7",
   "metadata": {},
   "outputs": [],
   "source": [
    "c = 5 + 6j"
   ]
  },
  {
   "cell_type": "code",
   "execution_count": null,
   "id": "aae1eb36-9e6e-4ab7-b875-588634c30d72",
   "metadata": {},
   "outputs": [],
   "source": [
    "type( c)"
   ]
  },
  {
   "cell_type": "code",
   "execution_count": null,
   "id": "35da5438-ac3f-4b65-9b32-7e65978360a5",
   "metadata": {},
   "outputs": [],
   "source": [
    "c"
   ]
  },
  {
   "cell_type": "code",
   "execution_count": null,
   "id": "fce6307d-7991-4a1c-84e5-f1c6014947c0",
   "metadata": {},
   "outputs": [],
   "source": [
    "c.real"
   ]
  },
  {
   "cell_type": "code",
   "execution_count": null,
   "id": "4d30c89b-7b38-4210-a80a-5e1a9dc01c77",
   "metadata": {},
   "outputs": [],
   "source": [
    "c.imag"
   ]
  },
  {
   "cell_type": "code",
   "execution_count": null,
   "id": "e664edc7-16fb-4a9b-975b-f92659098501",
   "metadata": {},
   "outputs": [],
   "source": [
    "b = True"
   ]
  },
  {
   "cell_type": "code",
   "execution_count": null,
   "id": "cb5113f8-6c76-442c-a394-8950cc47b911",
   "metadata": {},
   "outputs": [],
   "source": [
    "type(b)"
   ]
  },
  {
   "cell_type": "code",
   "execution_count": null,
   "id": "b651e016-59f2-451b-961c-8c81df09f74f",
   "metadata": {},
   "outputs": [],
   "source": [
    "b1 = False"
   ]
  },
  {
   "cell_type": "code",
   "execution_count": null,
   "id": "3ab6fe2c-ba26-42ad-8636-ee9245aae3c7",
   "metadata": {},
   "outputs": [],
   "source": [
    "b1"
   ]
  },
  {
   "cell_type": "code",
   "execution_count": null,
   "id": "6dd16b82-07ba-4ea8-9a99-29aa9e355f30",
   "metadata": {},
   "outputs": [],
   "source": [
    "type(b1)"
   ]
  },
  {
   "cell_type": "code",
   "execution_count": null,
   "id": "12033e8d-52e9-4403-a402-5f49c5c194c5",
   "metadata": {},
   "outputs": [],
   "source": [
    "a1 = 45\n",
    "a2 = 45"
   ]
  },
  {
   "cell_type": "code",
   "execution_count": null,
   "id": "39c35f63-5798-4840-a363-cd489e138f9d",
   "metadata": {},
   "outputs": [],
   "source": [
    "a1 + a2"
   ]
  },
  {
   "cell_type": "code",
   "execution_count": null,
   "id": "4db10122-a5c3-4712-ab1a-3166e5793076",
   "metadata": {},
   "outputs": [],
   "source": [
    "a1=35\n",
    "a2=30"
   ]
  },
  {
   "cell_type": "code",
   "execution_count": null,
   "id": "9aa2ce80-16ba-4450-9a23-1635251d0b11",
   "metadata": {},
   "outputs": [],
   "source": [
    "a1+a2"
   ]
  },
  {
   "cell_type": "code",
   "execution_count": null,
   "id": "c2d5e39e-93db-44ca-9349-814d7e8ad63c",
   "metadata": {},
   "outputs": [],
   "source": [
    "a1/a2"
   ]
  },
  {
   "cell_type": "code",
   "execution_count": null,
   "id": "479b7036-e854-4409-bd4f-b7b6038f7b8f",
   "metadata": {},
   "outputs": [],
   "source": [
    "a1*a2"
   ]
  },
  {
   "cell_type": "code",
   "execution_count": null,
   "id": "e8c96931-b338-4635-89d8-75d10ec05132",
   "metadata": {},
   "outputs": [],
   "source": [
    "a1-a2"
   ]
  },
  {
   "cell_type": "code",
   "execution_count": null,
   "id": "f07f60e8-83d1-4793-92b5-01bb6677de09",
   "metadata": {},
   "outputs": [],
   "source": [
    "35/30"
   ]
  },
  {
   "cell_type": "code",
   "execution_count": null,
   "id": "51f5b1a9-b974-4026-b003-846e99b6eb93",
   "metadata": {},
   "outputs": [],
   "source": [
    "35*30"
   ]
  },
  {
   "cell_type": "code",
   "execution_count": null,
   "id": "02c1890e-bbfd-4033-8029-3dfe17a5bdf9",
   "metadata": {},
   "outputs": [],
   "source": [
    "a1"
   ]
  },
  {
   "cell_type": "code",
   "execution_count": null,
   "id": "b3364001-e3cd-4445-8a47-1297d86a021e",
   "metadata": {},
   "outputs": [],
   "source": [
    "a2"
   ]
  },
  {
   "cell_type": "code",
   "execution_count": null,
   "id": "5c1154f3-8c45-4824-848c-752d2cc89684",
   "metadata": {},
   "outputs": [],
   "source": [
    "a1 ,a2 =30,35"
   ]
  },
  {
   "cell_type": "code",
   "execution_count": null,
   "id": "9b5d4fd1-f4d4-4191-ab8d-ecc985c7624a",
   "metadata": {},
   "outputs": [],
   "source": [
    "a1"
   ]
  },
  {
   "cell_type": "code",
   "execution_count": null,
   "id": "e9616966-e352-44ef-9a75-09e96f43f1ea",
   "metadata": {},
   "outputs": [],
   "source": [
    "a2"
   ]
  },
  {
   "cell_type": "code",
   "execution_count": null,
   "id": "effa4a74-bdcd-4deb-a334-802fec3804bf",
   "metadata": {},
   "outputs": [],
   "source": [
    "a, b,c,d = 1255, \"faiz\" , 545.256 , True"
   ]
  },
  {
   "cell_type": "code",
   "execution_count": null,
   "id": "24d1b0fb-7845-42c8-8863-8fd88920d386",
   "metadata": {},
   "outputs": [],
   "source": [
    "a"
   ]
  },
  {
   "cell_type": "code",
   "execution_count": null,
   "id": "ec50e148-bf88-4b1e-948e-ff0cdb520587",
   "metadata": {},
   "outputs": [],
   "source": [
    "b"
   ]
  },
  {
   "cell_type": "code",
   "execution_count": null,
   "id": "3990efa9-5066-4f73-aa21-c4484bb0d2b2",
   "metadata": {},
   "outputs": [],
   "source": [
    "c"
   ]
  },
  {
   "cell_type": "code",
   "execution_count": null,
   "id": "a5397e6c-6b3e-4d33-9720-5ba0e91023bb",
   "metadata": {},
   "outputs": [],
   "source": [
    "d"
   ]
  },
  {
   "cell_type": "code",
   "execution_count": null,
   "id": "7671a576-2870-4b96-bbe0-5e5fa787667b",
   "metadata": {},
   "outputs": [],
   "source": [
    "type(c)"
   ]
  },
  {
   "cell_type": "code",
   "execution_count": null,
   "id": "7965d1c3-99bf-4c68-8267-b8be8517b1bc",
   "metadata": {},
   "outputs": [],
   "source": [
    "type(a)"
   ]
  },
  {
   "cell_type": "code",
   "execution_count": null,
   "id": "664c7761-683d-4e66-877a-7d3c655db23c",
   "metadata": {},
   "outputs": [],
   "source": [
    "type(b)"
   ]
  },
  {
   "cell_type": "code",
   "execution_count": null,
   "id": "7d718160-4fa6-4c05-8089-9376c9f69139",
   "metadata": {},
   "outputs": [],
   "source": [
    "type(d)"
   ]
  },
  {
   "cell_type": "code",
   "execution_count": null,
   "id": "de49d01e-c050-4a0b-8c61-cd1fd1b27789",
   "metadata": {},
   "outputs": [],
   "source": [
    "%a = 234"
   ]
  },
  {
   "cell_type": "code",
   "execution_count": null,
   "id": "b5bbd516-873e-4b43-8139-1e2383f7be43",
   "metadata": {},
   "outputs": [],
   "source": [
    "0b = 1451"
   ]
  },
  {
   "cell_type": "code",
   "execution_count": null,
   "id": "a2d806f7-7fe5-46a3-8751-c7132c11176e",
   "metadata": {},
   "outputs": [],
   "source": [
    "@h = 6545613"
   ]
  },
  {
   "cell_type": "code",
   "execution_count": null,
   "id": "db00a867-a993-4482-a835-7c499b4e01fe",
   "metadata": {},
   "outputs": [],
   "source": [
    "_a = 45"
   ]
  },
  {
   "cell_type": "code",
   "execution_count": null,
   "id": "8b892189-b5da-4e7c-9221-a1e592b1ba1b",
   "metadata": {},
   "outputs": [],
   "source": [
    "_a"
   ]
  },
  {
   "cell_type": "code",
   "execution_count": null,
   "id": "ae6b690c-4a63-4644-88d8-71bb6650777f",
   "metadata": {},
   "outputs": [],
   "source": [
    "True = 54"
   ]
  },
  {
   "cell_type": "code",
   "execution_count": null,
   "id": "9ea4864b-531d-493d-b5bd-df10e72b1c09",
   "metadata": {},
   "outputs": [],
   "source": [
    "int = 241654"
   ]
  },
  {
   "cell_type": "code",
   "execution_count": null,
   "id": "98025b0c-d9fd-4f37-b7f2-3fe570c784ec",
   "metadata": {},
   "outputs": [],
   "source": [
    "int"
   ]
  },
  {
   "cell_type": "code",
   "execution_count": null,
   "id": "6a47221b-7381-4cfd-ad9f-85737ae21122",
   "metadata": {},
   "outputs": [],
   "source": [
    "b1 = True "
   ]
  },
  {
   "cell_type": "code",
   "execution_count": null,
   "id": "3fe01294-d130-4d26-820f-0935f11dad41",
   "metadata": {},
   "outputs": [],
   "source": [
    "b2 = False"
   ]
  },
  {
   "cell_type": "code",
   "execution_count": null,
   "id": "7c6d0fb7-4acf-48cf-9244-f31eb6329b84",
   "metadata": {},
   "outputs": [],
   "source": [
    "b1 - b2"
   ]
  },
  {
   "cell_type": "code",
   "execution_count": null,
   "id": "980d45cc-f789-4bac-ab94-c3ac9d467587",
   "metadata": {},
   "outputs": [],
   "source": [
    "b1 /b2"
   ]
  },
  {
   "cell_type": "code",
   "execution_count": null,
   "id": "4a472a10-bfae-4b77-a480-f394aeba21a1",
   "metadata": {},
   "outputs": [],
   "source": [
    "s1 = ' my name is faiz akhter '"
   ]
  },
  {
   "cell_type": "code",
   "execution_count": null,
   "id": "a966205a-178a-461d-9f76-3ecdfbff84b2",
   "metadata": {},
   "outputs": [],
   "source": [
    "s1"
   ]
  },
  {
   "cell_type": "code",
   "execution_count": null,
   "id": "4321ff52-ea23-4f47-94fe-bb972607f73a",
   "metadata": {},
   "outputs": [],
   "source": [
    "type(s1)"
   ]
  },
  {
   "cell_type": "code",
   "execution_count": null,
   "id": "989ccd32-7c90-42c1-a5cc-c6ad06db5797",
   "metadata": {},
   "outputs": [],
   "source": [
    "s2 = 'this is my first python class for data science masters '"
   ]
  },
  {
   "cell_type": "code",
   "execution_count": null,
   "id": "9e820d63-45e8-44fb-80cf-19caed5a0c84",
   "metadata": {},
   "outputs": [],
   "source": [
    "s2"
   ]
  },
  {
   "cell_type": "code",
   "execution_count": null,
   "id": "162b8acd-d3d0-47b5-97ab-f87e76470439",
   "metadata": {},
   "outputs": [],
   "source": [
    "type(s2)"
   ]
  },
  {
   "cell_type": "code",
   "execution_count": null,
   "id": "b1148bf9-7ad6-4dde-8e3e-3f658d97587a",
   "metadata": {},
   "outputs": [],
   "source": [
    "s2 = \"this is my first python class for data science master's\""
   ]
  },
  {
   "cell_type": "code",
   "execution_count": null,
   "id": "ba8c7871-7912-4465-a2ec-f7a1de1e0b1f",
   "metadata": {},
   "outputs": [],
   "source": [
    "s2"
   ]
  },
  {
   "cell_type": "code",
   "execution_count": null,
   "id": "cc958f6d-7a55-4604-9a3b-81543896e2ea",
   "metadata": {},
   "outputs": [],
   "source": [
    "#this is my first to create string variable with quotes \n",
    "\n",
    "s3 = 'this is my first python class for data science master\"s'"
   ]
  },
  {
   "cell_type": "code",
   "execution_count": null,
   "id": "3b895346-4e36-46cc-98fd-05786dbcb676",
   "metadata": {},
   "outputs": [],
   "source": [
    "#this is my first python class \n",
    "#i am trying to learn variable declaration \n",
    "#so far i have learnt int , boolean, string , complex number , float variable declaration \n",
    "a = 10 "
   ]
  },
  {
   "cell_type": "code",
   "execution_count": null,
   "id": "dd8e04a7-d113-427f-855b-23f32e67ea96",
   "metadata": {},
   "outputs": [],
   "source": [
    "'''this is my first python class \n",
    "i am trying to learn variable declaration \n",
    "so far i have learnt int , boolean , string , complex number , float variable declaration'''\n",
    "a = 10 "
   ]
  },
  {
   "cell_type": "code",
   "execution_count": null,
   "id": "a1840498-72ec-4074-a843-35625a336bb1",
   "metadata": {},
   "outputs": [],
   "source": [
    "#IT IS ALWAYS A BEST PRACTICE TO USE COMMENT "
   ]
  },
  {
   "cell_type": "code",
   "execution_count": null,
   "id": "813facb3-d3bc-4a1c-8767-734a04e994bd",
   "metadata": {},
   "outputs": [],
   "source": [
    "'''focus inside the class build your career \n",
    "work hard try to do a coding \n",
    "discord is for collaborative pupose'''"
   ]
  },
  {
   "cell_type": "code",
   "execution_count": null,
   "id": "8c448a23-0f16-498f-b593-cc6aad13f56e",
   "metadata": {},
   "outputs": [],
   "source": [
    " s1 = \"faiz\"\n"
   ]
  },
  {
   "cell_type": "code",
   "execution_count": null,
   "id": "26a67175-e1a2-4508-948c-a93f922f1ec7",
   "metadata": {},
   "outputs": [],
   "source": [
    "a = 10 "
   ]
  },
  {
   "cell_type": "code",
   "execution_count": null,
   "id": "a6b114d3-6c87-4f0b-a29a-e4de51921a66",
   "metadata": {},
   "outputs": [],
   "source": [
    "s1 + a"
   ]
  },
  {
   "cell_type": "code",
   "execution_count": null,
   "id": "87a47e8a-8fac-45f0-8dfd-126c1e3221c5",
   "metadata": {},
   "outputs": [],
   "source": [
    "' faiz + akhter'"
   ]
  },
  {
   "cell_type": "code",
   "execution_count": null,
   "id": "761d2feb-038c-4c28-8769-9c5085f4eb74",
   "metadata": {},
   "outputs": [],
   "source": [
    "'faiz         ' + 'akhter            '"
   ]
  },
  {
   "cell_type": "code",
   "execution_count": null,
   "id": "c56748ef-fb2c-4434-a717-81c63557bebc",
   "metadata": {},
   "outputs": [],
   "source": [
    "s2 = \"akhter\""
   ]
  },
  {
   "cell_type": "code",
   "execution_count": null,
   "id": "4f274afa-7130-4a44-b81a-7ec566200372",
   "metadata": {},
   "outputs": [],
   "source": [
    "s1 = \"faiz\""
   ]
  },
  {
   "cell_type": "code",
   "execution_count": null,
   "id": "e29487a7-11fb-4390-8cb0-d6587d23ea9b",
   "metadata": {},
   "outputs": [],
   "source": [
    "s1 + s2 "
   ]
  },
  {
   "cell_type": "code",
   "execution_count": null,
   "id": "9f8ef773-2b0b-4fbf-a56b-9a64ef384a7c",
   "metadata": {},
   "outputs": [],
   "source": [
    " a = 10 "
   ]
  },
  {
   "cell_type": "code",
   "execution_count": null,
   "id": "32dcd922-1acd-4849-b93c-3e750d09c0ff",
   "metadata": {},
   "outputs": [],
   "source": [
    "type(a)"
   ]
  },
  {
   "cell_type": "code",
   "execution_count": null,
   "id": "61a5495e-8a49-44dc-802c-5d76e0cdee7e",
   "metadata": {},
   "outputs": [],
   "source": [
    "str(a)"
   ]
  },
  {
   "cell_type": "code",
   "execution_count": null,
   "id": "7fa0ac5a-e79f-4b8a-8245-6e4ac08bf5c1",
   "metadata": {},
   "outputs": [],
   "source": [
    "'10'"
   ]
  },
  {
   "cell_type": "code",
   "execution_count": null,
   "id": "bebb0147-cacf-47c9-91cb-ac25f6aca1f1",
   "metadata": {},
   "outputs": [],
   "source": [
    "s1 = \" faiz    \" "
   ]
  },
  {
   "cell_type": "code",
   "execution_count": null,
   "id": "aa5e34fe-655f-4d74-88d9-78577cc228f7",
   "metadata": {},
   "outputs": [],
   "source": [
    "s2 = 10 "
   ]
  },
  {
   "cell_type": "code",
   "execution_count": null,
   "id": "2f78e5ec-1d81-4530-9788-765ba2c375e5",
   "metadata": {},
   "outputs": [],
   "source": [
    "s1+ str(s2)"
   ]
  },
  {
   "cell_type": "code",
   "execution_count": null,
   "id": "c1ec2235-86f8-49c3-a684-55ab8adcf650",
   "metadata": {},
   "outputs": [],
   "source": [
    "s1 + \" \" + str(10)"
   ]
  },
  {
   "cell_type": "code",
   "execution_count": null,
   "id": "2ce0face-8317-4d8f-87d8-babf6751866a",
   "metadata": {},
   "outputs": [],
   "source": [
    "a"
   ]
  },
  {
   "cell_type": "code",
   "execution_count": null,
   "id": "bf60f6a1-d7a9-460a-a4e8-75f0999ac1db",
   "metadata": {},
   "outputs": [],
   "source": [
    "b = str(a)"
   ]
  },
  {
   "cell_type": "code",
   "execution_count": null,
   "id": "0ed4dbdc-65d7-4c94-a0ba-9b9ea021a582",
   "metadata": {},
   "outputs": [],
   "source": [
    "b"
   ]
  },
  {
   "cell_type": "code",
   "execution_count": null,
   "id": "f359b70a-739a-4531-8cc1-caea002497c1",
   "metadata": {},
   "outputs": [],
   "source": [
    "int(b)"
   ]
  },
  {
   "cell_type": "code",
   "execution_count": null,
   "id": "a5ee5089-2181-4894-95e9-b153ec02c83a",
   "metadata": {},
   "outputs": [],
   "source": [
    "int(b)"
   ]
  },
  {
   "cell_type": "code",
   "execution_count": null,
   "id": "5dd2f442-26e6-4ab7-8878-80d9d5ec1d9c",
   "metadata": {},
   "outputs": [],
   "source": [
    "s = \"faiz\""
   ]
  },
  {
   "cell_type": "code",
   "execution_count": null,
   "id": "d5e3aa28-42c7-4257-9412-24d9eba7aae2",
   "metadata": {},
   "outputs": [],
   "source": [
    "a = 856894"
   ]
  },
  {
   "cell_type": "code",
   "execution_count": null,
   "id": "8c8f2c7c-1306-4330-8bf0-ec45d5b0ae67",
   "metadata": {},
   "outputs": [],
   "source": [
    "#hi i wanted to say that i got stuck in pending input issue it is first of its kind i dont know how to solve it "
   ]
  },
  {
   "cell_type": "code",
   "execution_count": 18,
   "id": "fc79aa49-2523-406f-b269-9d694ce2c0ed",
   "metadata": {},
   "outputs": [
    {
     "name": "stdin",
     "output_type": "stream",
     "text": [
      " 6546165\n"
     ]
    }
   ],
   "source": [
    "b = input()"
   ]
  },
  {
   "cell_type": "code",
   "execution_count": 19,
   "id": "1fbe460d-1b8c-4d8e-95ce-9cfd7a28ee54",
   "metadata": {},
   "outputs": [
    {
     "data": {
      "text/plain": [
       "'6546165'"
      ]
     },
     "execution_count": 19,
     "metadata": {},
     "output_type": "execute_result"
    }
   ],
   "source": [
    "b "
   ]
  },
  {
   "cell_type": "code",
   "execution_count": 20,
   "id": "9f937e90-2eff-4ff0-89c8-bb1d25830882",
   "metadata": {},
   "outputs": [],
   "source": [
    "#here my issue got resolved by pw skills student what i failed to do is that i did not click enter after using function input "
   ]
  },
  {
   "cell_type": "code",
   "execution_count": 23,
   "id": "68e80abd-df86-4af6-8598-bd8d0b02177f",
   "metadata": {},
   "outputs": [
    {
     "name": "stdin",
     "output_type": "stream",
     "text": [
      " sdfhhidhfguierhfinendrijgheruihjkerhguierhgjknferjkfgh ehirj fhgijesrhhggiuetrhtgihfestruighestruighewiruthtguiestrrhgestrg65fd4654g74fds987gfesrbguhfdrbuhghbfedrgfd468fsdg4f68trfdriughfsdglkfdgjguoifdjgfdgfsdggfd46g4fsd654gfsr,g9fesdrfujgoifstrjgbkftrgopgkfduhgfsdkguiesrhgrjkgjfdokgehfr4d546fd154frg6gbg1fsdg654fsdfghjfdsfbgerbguerg4getr4fg1erf4er98gfsdrgmufdhggfesdrhjiguhjfergjefriughjfdughjijfdhjgufsdhuoijesrhtguyietrhjkghnrestigjnfestrklghuyerg,mfrgfsdjmuijvhjfdokgjjesruigjlsjkfdhjguoipejgksferhugjsel;kvgvhsferuihgjksfdjguifdsjfdgshsdfghvifsdhngvuijfsdjglfsdjguhhsefrdflkgjsferhy gnfedlkgnseyrjfglskerhbguyerjfguiewr i9fg 0ie usrhuig esrfui g hjbesrfdnbigjhenwrijgnesrfuoijghnrfugohnjgsetirojgoiserjiogerjtguoiwserjfojkgu ewrsoitgjesri9hjguoisetrjguoiesrfhg\n"
     ]
    }
   ],
   "source": [
    "c = input()"
   ]
  },
  {
   "cell_type": "code",
   "execution_count": 24,
   "id": "7e0a5da7-7c04-4055-bafd-b4b7d903e490",
   "metadata": {},
   "outputs": [
    {
     "data": {
      "text/plain": [
       "'sdfhhidhfguierhfinendrijgheruihjkerhguierhgjknferjkfgh ehirj fhgijesrhhggiuetrhtgihfestruighestruighewiruthtguiestrrhgestrg65fd4654g74fds987gfesrbguhfdrbuhghbfedrgfd468fsdg4f68trfdriughfsdglkfdgjguoifdjgfdgfsdggfd46g4fsd654gfsr,g9fesdrfujgoifstrjgbkftrgopgkfduhgfsdkguiesrhgrjkgjfdokgehfr4d546fd154frg6gbg1fsdg654fsdfghjfdsfbgerbguerg4getr4fg1erf4er98gfsdrgmufdhggfesdrhjiguhjfergjefriughjfdughjijfdhjgufsdhuoijesrhtguyietrhjkghnrestigjnfestrklghuyerg,mfrgfsdjmuijvhjfdokgjjesruigjlsjkfdhjguoipejgksferhugjsel;kvgvhsferuihgjksfdjguifdsjfdgshsdfghvifsdhngvuijfsdjglfsdjguhhsefrdflkgjsferhy gnfedlkgnseyrjfglskerhbguyerjfguiewr i9fg 0ie usrhuig esrfui g hjbesrfdnbigjhenwrijgnesrfuoijghnrfugohnjgsetirojgoiserjiogerjtguoiwserjfojkgu ewrsoitgjesri9hjguoisetrjguoiesrfhg'"
      ]
     },
     "execution_count": 24,
     "metadata": {},
     "output_type": "execute_result"
    }
   ],
   "source": [
    "c"
   ]
  },
  {
   "cell_type": "code",
   "execution_count": 25,
   "id": "e9441201-798c-4287-b06c-cd6abd7623aa",
   "metadata": {},
   "outputs": [
    {
     "name": "stdin",
     "output_type": "stream",
     "text": [
      " 456\n"
     ]
    }
   ],
   "source": [
    "d = input()"
   ]
  },
  {
   "cell_type": "code",
   "execution_count": 26,
   "id": "41075cad-87c3-4417-992a-ea5328f92c67",
   "metadata": {},
   "outputs": [
    {
     "data": {
      "text/plain": [
       "'456'"
      ]
     },
     "execution_count": 26,
     "metadata": {},
     "output_type": "execute_result"
    }
   ],
   "source": [
    "d"
   ]
  },
  {
   "cell_type": "code",
   "execution_count": 27,
   "id": "fa22fc17-2482-4aff-aa14-ca7e5330a45f",
   "metadata": {},
   "outputs": [
    {
     "data": {
      "text/plain": [
       "str"
      ]
     },
     "execution_count": 27,
     "metadata": {},
     "output_type": "execute_result"
    }
   ],
   "source": [
    "type(b)"
   ]
  },
  {
   "cell_type": "code",
   "execution_count": 28,
   "id": "0d33dc4e-7ea4-4bee-8916-5d7dc2949faf",
   "metadata": {},
   "outputs": [
    {
     "data": {
      "text/plain": [
       "str"
      ]
     },
     "execution_count": 28,
     "metadata": {},
     "output_type": "execute_result"
    }
   ],
   "source": [
    "type(c)"
   ]
  },
  {
   "cell_type": "code",
   "execution_count": 29,
   "id": "6a028e8c-491d-4cb1-a0ee-f396218a8e49",
   "metadata": {},
   "outputs": [
    {
     "data": {
      "text/plain": [
       "int"
      ]
     },
     "execution_count": 29,
     "metadata": {},
     "output_type": "execute_result"
    }
   ],
   "source": [
    "type(a)"
   ]
  },
  {
   "cell_type": "code",
   "execution_count": 32,
   "id": "2fb11641-f130-497b-bc30-e892e4a95510",
   "metadata": {},
   "outputs": [
    {
     "name": "stdin",
     "output_type": "stream",
     "text": [
      " True\n"
     ]
    }
   ],
   "source": [
    "e = input()"
   ]
  },
  {
   "cell_type": "code",
   "execution_count": 33,
   "id": "a192f549-800a-400f-9ec2-225b9e354c28",
   "metadata": {},
   "outputs": [
    {
     "data": {
      "text/plain": [
       "str"
      ]
     },
     "execution_count": 33,
     "metadata": {},
     "output_type": "execute_result"
    }
   ],
   "source": [
    "type(e)\n"
   ]
  },
  {
   "cell_type": "code",
   "execution_count": 34,
   "id": "8304a749-35d8-47f4-aebf-9e8bf6513441",
   "metadata": {},
   "outputs": [
    {
     "data": {
      "text/plain": [
       "'True'"
      ]
     },
     "execution_count": 34,
     "metadata": {},
     "output_type": "execute_result"
    }
   ],
   "source": [
    "e"
   ]
  },
  {
   "cell_type": "code",
   "execution_count": 35,
   "id": "6251b1c8-47cb-410a-b0e6-77635cf37a54",
   "metadata": {},
   "outputs": [
    {
     "name": "stdin",
     "output_type": "stream",
     "text": [
      " 4465555\n"
     ]
    }
   ],
   "source": [
    "f = int(input())"
   ]
  },
  {
   "cell_type": "code",
   "execution_count": 36,
   "id": "55a73fc5-7aed-4d14-a0fe-cd452ba2e625",
   "metadata": {},
   "outputs": [
    {
     "data": {
      "text/plain": [
       "int"
      ]
     },
     "execution_count": 36,
     "metadata": {},
     "output_type": "execute_result"
    }
   ],
   "source": [
    "type(f)"
   ]
  },
  {
   "cell_type": "code",
   "execution_count": 38,
   "id": "902bcaa1-45b0-41af-a152-8e469270eb42",
   "metadata": {},
   "outputs": [
    {
     "name": "stdin",
     "output_type": "stream",
     "text": [
      " 6464465\n"
     ]
    }
   ],
   "source": [
    "g = input()"
   ]
  },
  {
   "cell_type": "code",
   "execution_count": 39,
   "id": "818ab633-5506-48c9-b647-6e17aa50fc8e",
   "metadata": {},
   "outputs": [
    {
     "data": {
      "text/plain": [
       "int"
      ]
     },
     "execution_count": 39,
     "metadata": {},
     "output_type": "execute_result"
    }
   ],
   "source": [
    "type(int(g))"
   ]
  },
  {
   "cell_type": "code",
   "execution_count": 40,
   "id": "b1bb5a62-207c-4893-91bd-8fc46f0a2ae2",
   "metadata": {},
   "outputs": [
    {
     "data": {
      "text/plain": [
       "'6464465'"
      ]
     },
     "execution_count": 40,
     "metadata": {},
     "output_type": "execute_result"
    }
   ],
   "source": [
    "g"
   ]
  },
  {
   "cell_type": "code",
   "execution_count": 42,
   "id": "5416d18d-fbc7-4bc1-9406-9b89574bbafb",
   "metadata": {},
   "outputs": [
    {
     "name": "stdin",
     "output_type": "stream",
     "text": [
      " 5465464.5646489474464\n"
     ]
    }
   ],
   "source": [
    "h = float(input())"
   ]
  },
  {
   "cell_type": "code",
   "execution_count": 43,
   "id": "ffbd0967-8c02-491f-a597-56b06e58b095",
   "metadata": {},
   "outputs": [
    {
     "data": {
      "text/plain": [
       "float"
      ]
     },
     "execution_count": 43,
     "metadata": {},
     "output_type": "execute_result"
    }
   ],
   "source": [
    "type(h)"
   ]
  },
  {
   "cell_type": "code",
   "execution_count": 45,
   "id": "d5d92971-5423-4ccd-ab7d-a3fc6f53d9f4",
   "metadata": {},
   "outputs": [
    {
     "name": "stdin",
     "output_type": "stream",
     "text": [
      " True\n"
     ]
    }
   ],
   "source": [
    "i = bool(input())\n"
   ]
  },
  {
   "cell_type": "code",
   "execution_count": 47,
   "id": "5795b774-ec6c-489c-903f-1315244af133",
   "metadata": {},
   "outputs": [
    {
     "data": {
      "text/plain": [
       "bool"
      ]
     },
     "execution_count": 47,
     "metadata": {},
     "output_type": "execute_result"
    }
   ],
   "source": [
    "type(i)"
   ]
  },
  {
   "cell_type": "code",
   "execution_count": 48,
   "id": "4ffcdabd-4556-45bd-b024-6ef9bb9d1aba",
   "metadata": {},
   "outputs": [],
   "source": [
    "#true and false values as 1 and 0 works only in case of mathematical operations otherwise they dont work\n"
   ]
  },
  {
   "cell_type": "code",
   "execution_count": 2,
   "id": "45b6a222-ba18-441f-9c95-253162e974f1",
   "metadata": {},
   "outputs": [],
   "source": [
    "f = \"faiz\""
   ]
  },
  {
   "cell_type": "code",
   "execution_count": 3,
   "id": "ffbf5a4b-48ec-4fe4-88e7-018daaa4e09c",
   "metadata": {},
   "outputs": [
    {
     "data": {
      "text/plain": [
       "'a'"
      ]
     },
     "execution_count": 3,
     "metadata": {},
     "output_type": "execute_result"
    }
   ],
   "source": [
    "f[1]"
   ]
  },
  {
   "cell_type": "code",
   "execution_count": 4,
   "id": "5e186f82-ebc0-4534-8fca-ff835817ae5a",
   "metadata": {},
   "outputs": [
    {
     "data": {
      "text/plain": [
       "'i'"
      ]
     },
     "execution_count": 4,
     "metadata": {},
     "output_type": "execute_result"
    }
   ],
   "source": [
    "f[2]"
   ]
  },
  {
   "cell_type": "code",
   "execution_count": 7,
   "id": "aeee9f71-2d12-42f6-96f4-5539580b25d8",
   "metadata": {},
   "outputs": [
    {
     "data": {
      "text/plain": [
       "'f'"
      ]
     },
     "execution_count": 7,
     "metadata": {},
     "output_type": "execute_result"
    }
   ],
   "source": [
    "f[0]"
   ]
  },
  {
   "cell_type": "code",
   "execution_count": 8,
   "id": "e36dcc82-4c1f-4a64-a1cf-f0ae01d9385f",
   "metadata": {},
   "outputs": [
    {
     "data": {
      "text/plain": [
       "'z'"
      ]
     },
     "execution_count": 8,
     "metadata": {},
     "output_type": "execute_result"
    }
   ],
   "source": [
    "f[3]"
   ]
  },
  {
   "cell_type": "code",
   "execution_count": 9,
   "id": "420c0e5a-414f-4f32-8a8a-14b07f36484a",
   "metadata": {},
   "outputs": [
    {
     "data": {
      "text/plain": [
       "'z'"
      ]
     },
     "execution_count": 9,
     "metadata": {},
     "output_type": "execute_result"
    }
   ],
   "source": [
    "f[-1]"
   ]
  },
  {
   "cell_type": "code",
   "execution_count": 10,
   "id": "182fa41e-e1a0-4e85-a15f-e8324c462f82",
   "metadata": {},
   "outputs": [
    {
     "data": {
      "text/plain": [
       "'i'"
      ]
     },
     "execution_count": 10,
     "metadata": {},
     "output_type": "execute_result"
    }
   ],
   "source": [
    "f[-2]"
   ]
  },
  {
   "cell_type": "code",
   "execution_count": 11,
   "id": "52287cea-529d-432f-9bb8-ed4a6ec53f91",
   "metadata": {},
   "outputs": [
    {
     "data": {
      "text/plain": [
       "'a'"
      ]
     },
     "execution_count": 11,
     "metadata": {},
     "output_type": "execute_result"
    }
   ],
   "source": [
    "f[-3]"
   ]
  },
  {
   "cell_type": "code",
   "execution_count": 12,
   "id": "459a6d98-b577-4823-82d2-0625a9167871",
   "metadata": {},
   "outputs": [
    {
     "data": {
      "text/plain": [
       "'f'"
      ]
     },
     "execution_count": 12,
     "metadata": {},
     "output_type": "execute_result"
    }
   ],
   "source": [
    "f[-4]"
   ]
  },
  {
   "cell_type": "code",
   "execution_count": 15,
   "id": "191e724f-f169-41be-a5d1-a544c6aa05e5",
   "metadata": {},
   "outputs": [],
   "source": [
    "s1 = \"pwskills\""
   ]
  },
  {
   "cell_type": "code",
   "execution_count": 16,
   "id": "a714aa6f-1d96-4b0b-831c-91a561e78e5e",
   "metadata": {},
   "outputs": [
    {
     "data": {
      "text/plain": [
       "'s'"
      ]
     },
     "execution_count": 16,
     "metadata": {},
     "output_type": "execute_result"
    }
   ],
   "source": [
    "s1[7]"
   ]
  },
  {
   "cell_type": "code",
   "execution_count": 19,
   "id": "9c7a23e2-f4a6-4e43-a099-214fe0af8b4e",
   "metadata": {},
   "outputs": [
    {
     "data": {
      "text/plain": [
       "'pw'"
      ]
     },
     "execution_count": 19,
     "metadata": {},
     "output_type": "execute_result"
    }
   ],
   "source": [
    "s1[0:2]"
   ]
  },
  {
   "cell_type": "code",
   "execution_count": 21,
   "id": "a2084bc0-2e3b-4597-b523-581d10d7a399",
   "metadata": {},
   "outputs": [
    {
     "data": {
      "text/plain": [
       "'skill'"
      ]
     },
     "execution_count": 21,
     "metadata": {},
     "output_type": "execute_result"
    }
   ],
   "source": [
    "s1[2:7]"
   ]
  },
  {
   "cell_type": "code",
   "execution_count": 23,
   "id": "ea3cf700-809a-464d-a171-8ff5a0c50df2",
   "metadata": {},
   "outputs": [
    {
     "data": {
      "text/plain": [
       "'skills'"
      ]
     },
     "execution_count": 23,
     "metadata": {},
     "output_type": "execute_result"
    }
   ],
   "source": [
    "s1[2:8]"
   ]
  },
  {
   "cell_type": "code",
   "execution_count": 24,
   "id": "068b3f4f-d108-4252-ad7f-87661a4348bc",
   "metadata": {},
   "outputs": [
    {
     "data": {
      "text/plain": [
       "'skills'"
      ]
     },
     "execution_count": 24,
     "metadata": {},
     "output_type": "execute_result"
    }
   ],
   "source": [
    "s1[2:80000000000000]"
   ]
  },
  {
   "cell_type": "code",
   "execution_count": 26,
   "id": "0a967506-1242-400f-9b69-e522f386a982",
   "metadata": {},
   "outputs": [
    {
     "data": {
      "text/plain": [
       "'skills'"
      ]
     },
     "execution_count": 26,
     "metadata": {},
     "output_type": "execute_result"
    }
   ],
   "source": [
    "s1[2:]"
   ]
  },
  {
   "cell_type": "code",
   "execution_count": 27,
   "id": "b856842c-20ee-4f0e-8ed4-7c6034fe49e8",
   "metadata": {},
   "outputs": [
    {
     "data": {
      "text/plain": [
       "'pwskill'"
      ]
     },
     "execution_count": 27,
     "metadata": {},
     "output_type": "execute_result"
    }
   ],
   "source": [
    "s1[0:7]"
   ]
  },
  {
   "cell_type": "code",
   "execution_count": 28,
   "id": "f8eed6a9-176f-4a35-a016-15a5a657ac4e",
   "metadata": {},
   "outputs": [
    {
     "data": {
      "text/plain": [
       "'pwskill'"
      ]
     },
     "execution_count": 28,
     "metadata": {},
     "output_type": "execute_result"
    }
   ],
   "source": [
    "s1[0:7:1]"
   ]
  },
  {
   "cell_type": "code",
   "execution_count": 29,
   "id": "4811675a-384d-4018-bade-6754d3a0781d",
   "metadata": {},
   "outputs": [
    {
     "data": {
      "text/plain": [
       "'psil'"
      ]
     },
     "execution_count": 29,
     "metadata": {},
     "output_type": "execute_result"
    }
   ],
   "source": [
    "s1[0:7:2]"
   ]
  },
  {
   "cell_type": "code",
   "execution_count": 30,
   "id": "b9ae6a22-12fb-4370-b9f3-ad7c9d1af22b",
   "metadata": {},
   "outputs": [
    {
     "data": {
      "text/plain": [
       "'pwskills'"
      ]
     },
     "execution_count": 30,
     "metadata": {},
     "output_type": "execute_result"
    }
   ],
   "source": [
    "s1"
   ]
  },
  {
   "cell_type": "code",
   "execution_count": 34,
   "id": "ed94a7b1-261d-40b2-9b9d-a90032c5dd30",
   "metadata": {},
   "outputs": [
    {
     "data": {
      "text/plain": [
       "'slli'"
      ]
     },
     "execution_count": 34,
     "metadata": {},
     "output_type": "execute_result"
    }
   ],
   "source": [
    "s1[7:3:-1]"
   ]
  },
  {
   "cell_type": "code",
   "execution_count": 36,
   "id": "627cf85c-d36f-4183-82a0-a3433e5a88fc",
   "metadata": {},
   "outputs": [
    {
     "data": {
      "text/plain": [
       "'slli'"
      ]
     },
     "execution_count": 36,
     "metadata": {},
     "output_type": "execute_result"
    }
   ],
   "source": [
    "s1[-1:-5:-1]"
   ]
  },
  {
   "cell_type": "code",
   "execution_count": 50,
   "id": "906a3258-6521-4395-b3f6-dbce0591624f",
   "metadata": {},
   "outputs": [
    {
     "data": {
      "text/plain": [
       "'sllikswp'"
      ]
     },
     "execution_count": 50,
     "metadata": {},
     "output_type": "execute_result"
    }
   ],
   "source": [
    "s1[7:-9:-1]"
   ]
  },
  {
   "cell_type": "code",
   "execution_count": 51,
   "id": "a1d78623-6f6a-480e-8ac9-ae295e708a8a",
   "metadata": {},
   "outputs": [
    {
     "data": {
      "text/plain": [
       "'sllikswp'"
      ]
     },
     "execution_count": 51,
     "metadata": {},
     "output_type": "execute_result"
    }
   ],
   "source": [
    "s1[7::-1]"
   ]
  },
  {
   "cell_type": "code",
   "execution_count": 52,
   "id": "6c5d1be9-5de0-43ec-84d9-4f8d4d9b50e1",
   "metadata": {},
   "outputs": [
    {
     "data": {
      "text/plain": [
       "'sllikswp'"
      ]
     },
     "execution_count": 52,
     "metadata": {},
     "output_type": "execute_result"
    }
   ],
   "source": [
    "s1[::-1]"
   ]
  },
  {
   "cell_type": "code",
   "execution_count": 53,
   "id": "8523df14-1cb8-48da-96ac-7368b9cd16cb",
   "metadata": {},
   "outputs": [
    {
     "data": {
      "text/plain": [
       "'pwskills'"
      ]
     },
     "execution_count": 53,
     "metadata": {},
     "output_type": "execute_result"
    }
   ],
   "source": [
    "s1"
   ]
  },
  {
   "cell_type": "code",
   "execution_count": 54,
   "id": "52961f71-25e2-4b4b-baf5-15a9fa7b6725",
   "metadata": {},
   "outputs": [
    {
     "data": {
      "text/plain": [
       "'p'"
      ]
     },
     "execution_count": 54,
     "metadata": {},
     "output_type": "execute_result"
    }
   ],
   "source": [
    "s1[0]"
   ]
  },
  {
   "cell_type": "code",
   "execution_count": 55,
   "id": "eb71f224-7969-4a54-8d46-8e8f03e387a7",
   "metadata": {},
   "outputs": [],
   "source": [
    "#strings are immutable "
   ]
  },
  {
   "cell_type": "code",
   "execution_count": 57,
   "id": "c37e6398-1afc-48b9-ade5-ede9ee201fcd",
   "metadata": {},
   "outputs": [],
   "source": [
    "#coding is just way to talk with machine - sudhansu sir "
   ]
  },
  {
   "cell_type": "code",
   "execution_count": null,
   "id": "206bd1ba-9434-4df2-a603-0626aa52e964",
   "metadata": {},
   "outputs": [],
   "source": []
  }
 ],
 "metadata": {
  "kernelspec": {
   "display_name": "Python 3 (ipykernel)",
   "language": "python",
   "name": "python3"
  },
  "language_info": {
   "codemirror_mode": {
    "name": "ipython",
    "version": 3
   },
   "file_extension": ".py",
   "mimetype": "text/x-python",
   "name": "python",
   "nbconvert_exporter": "python",
   "pygments_lexer": "ipython3",
   "version": "3.10.8"
  }
 },
 "nbformat": 4,
 "nbformat_minor": 5
}
